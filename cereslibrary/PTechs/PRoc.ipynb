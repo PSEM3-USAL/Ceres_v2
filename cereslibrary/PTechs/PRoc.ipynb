{
 "cells": [
  {
   "cell_type": "markdown",
   "metadata": {},
   "source": [
    "# P-RoC"
   ]
  },
  {
   "cell_type": "code",
   "execution_count": 3,
   "metadata": {},
   "outputs": [],
   "source": [
    "Pconc = 9 #mg/L Egle et al 2016, doi:10.1013/j.scitotenv.2016.07.019\n",
    "PO4_frac_wastewater = 0.75 #Metcalf and Eddy, 5th edition"
   ]
  },
  {
   "cell_type": "code",
   "execution_count": 23,
   "metadata": {},
   "outputs": [],
   "source": [
    "PO4_feed_small = (200*100E3)*(Pconc*1E-6*PO4_frac_wastewater)\n",
    "PO4_feed_big = (200*500E3)*(Pconc*1E-6*PO4_frac_wastewater)\n",
    "\n",
    "CSH_price = 225*1.1 #USD per ton\n",
    "\n",
    "CSH_ratio_min = 9 #kg/kg_Prec\n",
    "CSH_ratio_max = 12 #kg/kg_Prec\n",
    "CSH_ratio_mean = (9+12)/2 #kg/kg_Prec\n",
    "\n",
    "Prec_yield = 0.6\n",
    "\n",
    "Personal_cost_min = 5000*1.1 #to USD\n",
    "Energy_cost_min = 5000*1.1 #to USD\n",
    "Maintenance_cost_min = 4000*1.1 #to USD\n",
    "\n",
    "Personal_cost_max = 25000*1.1 #to USD\n",
    "Energy_cost_max = 10000*1.1 #to USD\n",
    "Maintenance_cost_max = 5000*1.1 #to USD\n",
    "\n",
    "# OPEX_small = 43465*1.11 #to USD\n",
    "# OPEX_big = 187323*1.11 #to USD\n",
    "\n",
    "# Unit_OPEX_small = OPEX_small/PO4_feed_small/365 #UnitOperatingCost(USD/kgP-PO4feed day)\n",
    "# Unit_OPEX_big = OPEX_big/PO4_feed_big/365\n",
    "# Unit_OPEX_small"
   ]
  },
  {
   "cell_type": "code",
   "execution_count": 25,
   "metadata": {},
   "outputs": [
    {
     "data": {
      "text/plain": [
       "115.49157407407407"
      ]
     },
     "execution_count": 25,
     "metadata": {},
     "output_type": "execute_result"
    }
   ],
   "source": [
    "UnitOperatingCost_small = (PO4_feed_small*Prec_yield*CSH_ratio_mean/1000*225+Personal_cost_min+Energy_cost_min+Maintenance_cost_min)/PO4_feed_small #UnitOperatingCost(USD/kgP-PO4feed day)\n",
    "UnitOperatingCost_small"
   ]
  },
  {
   "cell_type": "code",
   "execution_count": 31,
   "metadata": {},
   "outputs": [
    {
     "data": {
      "text/plain": [
       "67.8775840391068"
      ]
     },
     "execution_count": 31,
     "metadata": {},
     "output_type": "execute_result"
    }
   ],
   "source": [
    "PO4_feed_big = (PO4_feed_big*Prec_yield*CSH_ratio_mean/1000*225+Personal_cost_max+Energy_cost_max+Maintenance_cost_max)/PO4_feed_big #UnitOperatingCost(USD/kgP-PO4feed day)\n",
    "PO4_feed_big"
   ]
  },
  {
   "cell_type": "code",
   "execution_count": 35,
   "metadata": {},
   "outputs": [
    {
     "data": {
      "text/plain": [
       "67.61"
      ]
     },
     "execution_count": 35,
     "metadata": {},
     "output_type": "execute_result"
    }
   ],
   "source": [
    "-0.09*662+127.19"
   ]
  }
 ],
 "metadata": {
  "kernelspec": {
   "display_name": "Python 3",
   "language": "python",
   "name": "python3"
  },
  "language_info": {
   "codemirror_mode": {
    "name": "ipython",
    "version": 3
   },
   "file_extension": ".py",
   "mimetype": "text/x-python",
   "name": "python",
   "nbconvert_exporter": "python",
   "pygments_lexer": "ipython3",
   "version": "3.7.3"
  }
 },
 "nbformat": 4,
 "nbformat_minor": 2
}
