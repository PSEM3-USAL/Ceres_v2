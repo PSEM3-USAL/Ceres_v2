{
 "cells": [
  {
   "cell_type": "code",
   "execution_count": 2,
   "metadata": {},
   "outputs": [],
   "source": [
    "import numpy as np\n",
    "import pandas as pd"
   ]
  },
  {
   "cell_type": "code",
   "execution_count": 4,
   "metadata": {},
   "outputs": [],
   "source": [
    "# SETS, PARAMETERS AND NODES DATA ACQUISITION\n",
    "nodes_matrix            = pd.read_csv('nodes/nodes_PSA.csv', sep=\",\", header=None)\n",
    "nodes                   = np.array(nodes_matrix[0].dropna())\n",
    "process_elements_matrix = pd.read_csv('process_elements/process_elements_digestor.csv', sep=\",\", header=0)\n",
    "\n",
    "from feedstock_input_module import elements_wet, elements_dry, nutrients, feedstock_parameters"
   ]
  },
  {
   "cell_type": "code",
   "execution_count": 6,
   "metadata": {},
   "outputs": [],
   "source": [
    "# MANURE DATA ACQUISITION AND COMPOSITION SETTLEMENT   \n",
    "gases_comp   = np.array(process_elements_matrix[\"Component\"].dropna())\n",
    "gases_conc   = np.full((len(gases_comp)), 0)\n",
    "gases        = dict(zip(gases_comp, gases_conc))\n",
    "\n",
    "# ===============================================================================================================================================================================================================================\n",
    "# ###############################################################################################################################################################################################################################\n",
    "# ===============================================================================================================================================================================================================================  \n",
    "# TOTAL ELEMENTS\n",
    "total_elements = {**elements_wet,**gases} # Merge the two dictionaries\n",
    "\n",
    "# ===============================================================================================================================================================================================================================\n",
    "# ###############################################################################################################################################################################################################################\n",
    "# ===============================================================================================================================================================================================================================\n",
    "# AD PARTICULAR PARAMETERS\n",
    "T_biogas = 25"
   ]
  },
  {
   "cell_type": "code",
   "execution_count": 8,
   "metadata": {},
   "outputs": [],
   "source": [
    "# VARIABLES DEFINITION (IN NESTED DICTIONARIES) (INITIALIZATION)\n",
    "nodes_list              = nodes.tolist()\n",
    "initialization_comp     = total_elements #[\"Wa\", \"C\", \"NH3\", \"PO4\", \"Ca_ion\", \"K_ion\"]\n",
    "initialization_nan      = np.full((len(initialization_comp)), 0.00)\n",
    "\n",
    "fc = {key: dict(zip(initialization_comp,initialization_nan)) for key in nodes_list}\n",
    "\n",
    "x = {key: dict(zip(initialization_comp,initialization_nan)) for key in nodes_list}\n",
    "\n",
    "F = {key: np.nan for key in nodes_list}\n",
    "\n",
    "T = {key: np.nan for key in nodes_list}\n",
    "\n",
    "y_biogas = {\"BioreactorSink1\": dict(zip(initialization_comp,initialization_nan)) }\n",
    "\n",
    "# ===============================================================================================================================================================================================================================\n",
    "# ###############################################################################################################################################################################################################################\n",
    "# ===============================================================================================================================================================================================================================     \n",
    "# MASS BALANCE\n",
    "# for i in total_elements.keys():\n",
    "# #        x[\"Src1Bioreactor\"][i]  = total_elements[i]/100\n",
    "# #        fc[\"Src1Bioreactor\"][i] = x[\"Src1Bioreactor\"][i]*F_ini\n",
    "#     x[\"Src1Bioreactor\"][i]  = x_ini[i]\n",
    "#     fc[\"Src1Bioreactor\"][i] = fc_ini[i]"
   ]
  }
 ],
 "metadata": {
  "kernelspec": {
   "display_name": "Python 3",
   "language": "python",
   "name": "python3"
  },
  "language_info": {
   "codemirror_mode": {
    "name": "ipython",
    "version": 3
   },
   "file_extension": ".py",
   "mimetype": "text/x-python",
   "name": "python",
   "nbconvert_exporter": "python",
   "pygments_lexer": "ipython3",
   "version": "3.7.3"
  }
 },
 "nbformat": 4,
 "nbformat_minor": 2
}
