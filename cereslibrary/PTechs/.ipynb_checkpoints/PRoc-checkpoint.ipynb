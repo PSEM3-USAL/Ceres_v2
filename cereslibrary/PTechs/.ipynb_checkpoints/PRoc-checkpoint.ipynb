{
 "cells": [
  {
   "cell_type": "markdown",
   "metadata": {},
   "source": [
    "# Crystalactor"
   ]
  },
  {
   "cell_type": "markdown",
   "metadata": {},
   "source": [
    "Size=5000m3/h, Crystalactor® technology and its applications in the mining and metallurgical industry"
   ]
  },
  {
   "cell_type": "code",
   "execution_count": 1,
   "metadata": {},
   "outputs": [],
   "source": [
    "# Size=5000 #m3/h\n",
    "Size=850 #m3/h Crystalactor® technology and its applications in the mining and metallurgical industry\n",
    "Pconc = 9 #mg/L Egle et al 2016, doi:10.1013/j.scitotenv.2016.07.019\n",
    "PO4_frac_wastewater = 0.75 #Metcalf and Eddy, 5th edition\n"
   ]
  },
  {
   "cell_type": "code",
   "execution_count": 2,
   "metadata": {},
   "outputs": [
    {
     "data": {
      "text/plain": [
       "137.7"
      ]
     },
     "execution_count": 2,
     "metadata": {},
     "output_type": "execute_result"
    }
   ],
   "source": [
    "PO4Size=Size*1000*Pconc*1E-6*PO4_frac_wastewater*24\n",
    "PO4Size"
   ]
  },
  {
   "cell_type": "code",
   "execution_count": 16,
   "metadata": {},
   "outputs": [
    {
     "data": {
      "text/plain": [
       "4.901960784313726"
      ]
     },
     "execution_count": 16,
     "metadata": {},
     "output_type": "execute_result"
    }
   ],
   "source": [
    "#Number of units in Egle et al 2016,\n",
    "n_units_small = (200*100E3)/(Size*1000*24)\n",
    "n_units_big = (200*500E3)/(Size*1000*24)\n",
    "n_units_big"
   ]
  },
  {
   "cell_type": "code",
   "execution_count": 38,
   "metadata": {},
   "outputs": [
    {
     "data": {
      "text/plain": [
       "240052.44060000003"
      ]
     },
     "execution_count": 38,
     "metadata": {},
     "output_type": "execute_result"
    }
   ],
   "source": [
    "#Price of units in Egle et al 2016,\n",
    "CapitalCost_small=212023*1.11 #to USD\n",
    "CapitalCost_big=409212*1.11 #to USD\n",
    "\n",
    "price_base = CapitalCost_small/n_units_small\n",
    "price_AdittionalUnit = (CapitalCost_big-price_base)/(n_units_big-1)\n",
    "price_base"
   ]
  },
  {
   "cell_type": "code",
   "execution_count": 32,
   "metadata": {},
   "outputs": [],
   "source": [
    "def CAPEXCrystalactor(n_units):\n",
    "    return 240052.44+54888.52*(n_units-1)\n",
    "    \n"
   ]
  },
  {
   "cell_type": "code",
   "execution_count": 39,
   "metadata": {},
   "outputs": [
    {
     "data": {
      "text/plain": [
       "409115.02800000005"
      ]
     },
     "execution_count": 39,
     "metadata": {},
     "output_type": "execute_result"
    }
   ],
   "source": [
    "CAPEXCrystalactor(4.9)"
   ]
  },
  {
   "cell_type": "code",
   "execution_count": 6,
   "metadata": {},
   "outputs": [
    {
     "data": {
      "text/plain": [
       "772.0337777777779"
      ]
     },
     "execution_count": 6,
     "metadata": {},
     "output_type": "execute_result"
    }
   ],
   "source": [
    "PO4_feed_small = (200*100E3)*(Pconc*1E-6*PO4_frac_wastewater)\n",
    "PO4_feed_big = (200*500E3)*(Pconc*1E-6*PO4_frac_wastewater)\n",
    "\n",
    "OPEX_small = 43465*1.11 #to USD\n",
    "OPEX_big = 187323*1.11 #to USD\n",
    "\n",
    "Unit_OPEX_small = OPEX_small/PO4_feed_small/365 #\n",
    "Unit_OPEX_big = OPEX_big/PO4_feed_big\n",
    "Unit_OPEX_small"
   ]
  },
  {
   "cell_type": "code",
   "execution_count": 11,
   "metadata": {},
   "outputs": [
    {
     "data": {
      "text/plain": [
       "1.9270658751902592"
      ]
     },
     "execution_count": 11,
     "metadata": {},
     "output_type": "execute_result"
    }
   ],
   "source": [
    "((Unit_OPEX_small/365)+(Unit_OPEX_big/365))/2"
   ]
  },
  {
   "cell_type": "code",
   "execution_count": 12,
   "metadata": {},
   "outputs": [
    {
     "data": {
      "text/plain": [
       "2.1151610350076107"
      ]
     },
     "execution_count": 12,
     "metadata": {},
     "output_type": "execute_result"
    }
   ],
   "source": [
    "(Unit_OPEX_small/365)"
   ]
  }
 ],
 "metadata": {
  "kernelspec": {
   "display_name": "Python 3",
   "language": "python",
   "name": "python3"
  },
  "language_info": {
   "codemirror_mode": {
    "name": "ipython",
    "version": 3
   },
   "file_extension": ".py",
   "mimetype": "text/x-python",
   "name": "python",
   "nbconvert_exporter": "python",
   "pygments_lexer": "ipython3",
   "version": "3.7.3"
  }
 },
 "nbformat": 4,
 "nbformat_minor": 2
}
