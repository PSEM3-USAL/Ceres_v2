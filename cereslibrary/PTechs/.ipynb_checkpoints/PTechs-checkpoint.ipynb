{
 "cells": [
  {
   "cell_type": "markdown",
   "metadata": {},
   "source": [
    "# Import databases"
   ]
  },
  {
   "cell_type": "code",
   "execution_count": 1,
   "metadata": {},
   "outputs": [],
   "source": [
    "import pandas as pd\n",
    "import numpy as np\n",
    "from collections import OrderedDict\n",
    "\n",
    "from feedstock_input_module import elements_wet, elements_dry, nutrients, feedstock_parameters, elements_dry_comp"
   ]
  },
  {
   "cell_type": "code",
   "execution_count": 2,
   "metadata": {},
   "outputs": [
    {
     "ename": "FileNotFoundError",
     "evalue": "[Errno 2] File b'process_elements/process_elements_FBR.csv' does not exist: b'process_elements/process_elements_FBR.csv'",
     "output_type": "error",
     "traceback": [
      "\u001b[0;31m---------------------------------------------------------------------------\u001b[0m",
      "\u001b[0;31mFileNotFoundError\u001b[0m                         Traceback (most recent call last)",
      "\u001b[0;32m<ipython-input-2-1b89deb67cd0>\u001b[0m in \u001b[0;36m<module>\u001b[0;34m\u001b[0m\n\u001b[1;32m      3\u001b[0m \u001b[0mnodes\u001b[0m                   \u001b[0;34m=\u001b[0m \u001b[0mnp\u001b[0m\u001b[0;34m.\u001b[0m\u001b[0marray\u001b[0m\u001b[0;34m(\u001b[0m\u001b[0mnodes_matrix\u001b[0m\u001b[0;34m[\u001b[0m\u001b[0;36m0\u001b[0m\u001b[0;34m]\u001b[0m\u001b[0;34m.\u001b[0m\u001b[0mdropna\u001b[0m\u001b[0;34m(\u001b[0m\u001b[0;34m)\u001b[0m\u001b[0;34m)\u001b[0m\u001b[0;34m\u001b[0m\u001b[0;34m\u001b[0m\u001b[0m\n\u001b[1;32m      4\u001b[0m \u001b[0mprocess_elements_digestor_matrix\u001b[0m \u001b[0;34m=\u001b[0m \u001b[0mpd\u001b[0m\u001b[0;34m.\u001b[0m\u001b[0mread_csv\u001b[0m\u001b[0;34m(\u001b[0m\u001b[0;34m'process_elements/process_elements_digestor.csv'\u001b[0m\u001b[0;34m,\u001b[0m \u001b[0msep\u001b[0m\u001b[0;34m=\u001b[0m\u001b[0;34m\",\"\u001b[0m\u001b[0;34m,\u001b[0m \u001b[0mheader\u001b[0m\u001b[0;34m=\u001b[0m\u001b[0;36m0\u001b[0m\u001b[0;34m)\u001b[0m\u001b[0;34m\u001b[0m\u001b[0;34m\u001b[0m\u001b[0m\n\u001b[0;32m----> 5\u001b[0;31m \u001b[0mprocess_elements_FBR_matrix\u001b[0m \u001b[0;34m=\u001b[0m \u001b[0mpd\u001b[0m\u001b[0;34m.\u001b[0m\u001b[0mread_csv\u001b[0m\u001b[0;34m(\u001b[0m\u001b[0;34m'process_elements/process_elements_FBR.csv'\u001b[0m\u001b[0;34m,\u001b[0m \u001b[0msep\u001b[0m\u001b[0;34m=\u001b[0m\u001b[0;34m\",\"\u001b[0m\u001b[0;34m,\u001b[0m \u001b[0mheader\u001b[0m\u001b[0;34m=\u001b[0m\u001b[0;36m0\u001b[0m\u001b[0;34m)\u001b[0m\u001b[0;34m\u001b[0m\u001b[0;34m\u001b[0m\u001b[0m\n\u001b[0m\u001b[1;32m      6\u001b[0m \u001b[0mprocess_elements_CSTR_matrix\u001b[0m \u001b[0;34m=\u001b[0m \u001b[0mpd\u001b[0m\u001b[0;34m.\u001b[0m\u001b[0mread_csv\u001b[0m\u001b[0;34m(\u001b[0m\u001b[0;34m'process_elements/process_elements_CSTR.csv'\u001b[0m\u001b[0;34m,\u001b[0m \u001b[0msep\u001b[0m\u001b[0;34m=\u001b[0m\u001b[0;34m\",\"\u001b[0m\u001b[0;34m,\u001b[0m \u001b[0mheader\u001b[0m\u001b[0;34m=\u001b[0m\u001b[0;36m0\u001b[0m\u001b[0;34m)\u001b[0m\u001b[0;34m\u001b[0m\u001b[0;34m\u001b[0m\u001b[0m\n\u001b[1;32m      7\u001b[0m \u001b[0mnodes\u001b[0m\u001b[0;34m\u001b[0m\u001b[0;34m\u001b[0m\u001b[0m\n",
      "\u001b[0;32m~/anaconda3/lib/python3.7/site-packages/pandas/io/parsers.py\u001b[0m in \u001b[0;36mparser_f\u001b[0;34m(filepath_or_buffer, sep, delimiter, header, names, index_col, usecols, squeeze, prefix, mangle_dupe_cols, dtype, engine, converters, true_values, false_values, skipinitialspace, skiprows, skipfooter, nrows, na_values, keep_default_na, na_filter, verbose, skip_blank_lines, parse_dates, infer_datetime_format, keep_date_col, date_parser, dayfirst, iterator, chunksize, compression, thousands, decimal, lineterminator, quotechar, quoting, doublequote, escapechar, comment, encoding, dialect, tupleize_cols, error_bad_lines, warn_bad_lines, delim_whitespace, low_memory, memory_map, float_precision)\u001b[0m\n\u001b[1;32m    700\u001b[0m                     skip_blank_lines=skip_blank_lines)\n\u001b[1;32m    701\u001b[0m \u001b[0;34m\u001b[0m\u001b[0m\n\u001b[0;32m--> 702\u001b[0;31m         \u001b[0;32mreturn\u001b[0m \u001b[0m_read\u001b[0m\u001b[0;34m(\u001b[0m\u001b[0mfilepath_or_buffer\u001b[0m\u001b[0;34m,\u001b[0m \u001b[0mkwds\u001b[0m\u001b[0;34m)\u001b[0m\u001b[0;34m\u001b[0m\u001b[0;34m\u001b[0m\u001b[0m\n\u001b[0m\u001b[1;32m    703\u001b[0m \u001b[0;34m\u001b[0m\u001b[0m\n\u001b[1;32m    704\u001b[0m     \u001b[0mparser_f\u001b[0m\u001b[0;34m.\u001b[0m\u001b[0m__name__\u001b[0m \u001b[0;34m=\u001b[0m \u001b[0mname\u001b[0m\u001b[0;34m\u001b[0m\u001b[0;34m\u001b[0m\u001b[0m\n",
      "\u001b[0;32m~/anaconda3/lib/python3.7/site-packages/pandas/io/parsers.py\u001b[0m in \u001b[0;36m_read\u001b[0;34m(filepath_or_buffer, kwds)\u001b[0m\n\u001b[1;32m    427\u001b[0m \u001b[0;34m\u001b[0m\u001b[0m\n\u001b[1;32m    428\u001b[0m     \u001b[0;31m# Create the parser.\u001b[0m\u001b[0;34m\u001b[0m\u001b[0;34m\u001b[0m\u001b[0;34m\u001b[0m\u001b[0m\n\u001b[0;32m--> 429\u001b[0;31m     \u001b[0mparser\u001b[0m \u001b[0;34m=\u001b[0m \u001b[0mTextFileReader\u001b[0m\u001b[0;34m(\u001b[0m\u001b[0mfilepath_or_buffer\u001b[0m\u001b[0;34m,\u001b[0m \u001b[0;34m**\u001b[0m\u001b[0mkwds\u001b[0m\u001b[0;34m)\u001b[0m\u001b[0;34m\u001b[0m\u001b[0;34m\u001b[0m\u001b[0m\n\u001b[0m\u001b[1;32m    430\u001b[0m \u001b[0;34m\u001b[0m\u001b[0m\n\u001b[1;32m    431\u001b[0m     \u001b[0;32mif\u001b[0m \u001b[0mchunksize\u001b[0m \u001b[0;32mor\u001b[0m \u001b[0miterator\u001b[0m\u001b[0;34m:\u001b[0m\u001b[0;34m\u001b[0m\u001b[0;34m\u001b[0m\u001b[0m\n",
      "\u001b[0;32m~/anaconda3/lib/python3.7/site-packages/pandas/io/parsers.py\u001b[0m in \u001b[0;36m__init__\u001b[0;34m(self, f, engine, **kwds)\u001b[0m\n\u001b[1;32m    893\u001b[0m             \u001b[0mself\u001b[0m\u001b[0;34m.\u001b[0m\u001b[0moptions\u001b[0m\u001b[0;34m[\u001b[0m\u001b[0;34m'has_index_names'\u001b[0m\u001b[0;34m]\u001b[0m \u001b[0;34m=\u001b[0m \u001b[0mkwds\u001b[0m\u001b[0;34m[\u001b[0m\u001b[0;34m'has_index_names'\u001b[0m\u001b[0;34m]\u001b[0m\u001b[0;34m\u001b[0m\u001b[0;34m\u001b[0m\u001b[0m\n\u001b[1;32m    894\u001b[0m \u001b[0;34m\u001b[0m\u001b[0m\n\u001b[0;32m--> 895\u001b[0;31m         \u001b[0mself\u001b[0m\u001b[0;34m.\u001b[0m\u001b[0m_make_engine\u001b[0m\u001b[0;34m(\u001b[0m\u001b[0mself\u001b[0m\u001b[0;34m.\u001b[0m\u001b[0mengine\u001b[0m\u001b[0;34m)\u001b[0m\u001b[0;34m\u001b[0m\u001b[0;34m\u001b[0m\u001b[0m\n\u001b[0m\u001b[1;32m    896\u001b[0m \u001b[0;34m\u001b[0m\u001b[0m\n\u001b[1;32m    897\u001b[0m     \u001b[0;32mdef\u001b[0m \u001b[0mclose\u001b[0m\u001b[0;34m(\u001b[0m\u001b[0mself\u001b[0m\u001b[0;34m)\u001b[0m\u001b[0;34m:\u001b[0m\u001b[0;34m\u001b[0m\u001b[0;34m\u001b[0m\u001b[0m\n",
      "\u001b[0;32m~/anaconda3/lib/python3.7/site-packages/pandas/io/parsers.py\u001b[0m in \u001b[0;36m_make_engine\u001b[0;34m(self, engine)\u001b[0m\n\u001b[1;32m   1120\u001b[0m     \u001b[0;32mdef\u001b[0m \u001b[0m_make_engine\u001b[0m\u001b[0;34m(\u001b[0m\u001b[0mself\u001b[0m\u001b[0;34m,\u001b[0m \u001b[0mengine\u001b[0m\u001b[0;34m=\u001b[0m\u001b[0;34m'c'\u001b[0m\u001b[0;34m)\u001b[0m\u001b[0;34m:\u001b[0m\u001b[0;34m\u001b[0m\u001b[0;34m\u001b[0m\u001b[0m\n\u001b[1;32m   1121\u001b[0m         \u001b[0;32mif\u001b[0m \u001b[0mengine\u001b[0m \u001b[0;34m==\u001b[0m \u001b[0;34m'c'\u001b[0m\u001b[0;34m:\u001b[0m\u001b[0;34m\u001b[0m\u001b[0;34m\u001b[0m\u001b[0m\n\u001b[0;32m-> 1122\u001b[0;31m             \u001b[0mself\u001b[0m\u001b[0;34m.\u001b[0m\u001b[0m_engine\u001b[0m \u001b[0;34m=\u001b[0m \u001b[0mCParserWrapper\u001b[0m\u001b[0;34m(\u001b[0m\u001b[0mself\u001b[0m\u001b[0;34m.\u001b[0m\u001b[0mf\u001b[0m\u001b[0;34m,\u001b[0m \u001b[0;34m**\u001b[0m\u001b[0mself\u001b[0m\u001b[0;34m.\u001b[0m\u001b[0moptions\u001b[0m\u001b[0;34m)\u001b[0m\u001b[0;34m\u001b[0m\u001b[0;34m\u001b[0m\u001b[0m\n\u001b[0m\u001b[1;32m   1123\u001b[0m         \u001b[0;32melse\u001b[0m\u001b[0;34m:\u001b[0m\u001b[0;34m\u001b[0m\u001b[0;34m\u001b[0m\u001b[0m\n\u001b[1;32m   1124\u001b[0m             \u001b[0;32mif\u001b[0m \u001b[0mengine\u001b[0m \u001b[0;34m==\u001b[0m \u001b[0;34m'python'\u001b[0m\u001b[0;34m:\u001b[0m\u001b[0;34m\u001b[0m\u001b[0;34m\u001b[0m\u001b[0m\n",
      "\u001b[0;32m~/anaconda3/lib/python3.7/site-packages/pandas/io/parsers.py\u001b[0m in \u001b[0;36m__init__\u001b[0;34m(self, src, **kwds)\u001b[0m\n\u001b[1;32m   1851\u001b[0m         \u001b[0mkwds\u001b[0m\u001b[0;34m[\u001b[0m\u001b[0;34m'usecols'\u001b[0m\u001b[0;34m]\u001b[0m \u001b[0;34m=\u001b[0m \u001b[0mself\u001b[0m\u001b[0;34m.\u001b[0m\u001b[0musecols\u001b[0m\u001b[0;34m\u001b[0m\u001b[0;34m\u001b[0m\u001b[0m\n\u001b[1;32m   1852\u001b[0m \u001b[0;34m\u001b[0m\u001b[0m\n\u001b[0;32m-> 1853\u001b[0;31m         \u001b[0mself\u001b[0m\u001b[0;34m.\u001b[0m\u001b[0m_reader\u001b[0m \u001b[0;34m=\u001b[0m \u001b[0mparsers\u001b[0m\u001b[0;34m.\u001b[0m\u001b[0mTextReader\u001b[0m\u001b[0;34m(\u001b[0m\u001b[0msrc\u001b[0m\u001b[0;34m,\u001b[0m \u001b[0;34m**\u001b[0m\u001b[0mkwds\u001b[0m\u001b[0;34m)\u001b[0m\u001b[0;34m\u001b[0m\u001b[0;34m\u001b[0m\u001b[0m\n\u001b[0m\u001b[1;32m   1854\u001b[0m         \u001b[0mself\u001b[0m\u001b[0;34m.\u001b[0m\u001b[0munnamed_cols\u001b[0m \u001b[0;34m=\u001b[0m \u001b[0mself\u001b[0m\u001b[0;34m.\u001b[0m\u001b[0m_reader\u001b[0m\u001b[0;34m.\u001b[0m\u001b[0munnamed_cols\u001b[0m\u001b[0;34m\u001b[0m\u001b[0;34m\u001b[0m\u001b[0m\n\u001b[1;32m   1855\u001b[0m \u001b[0;34m\u001b[0m\u001b[0m\n",
      "\u001b[0;32mpandas/_libs/parsers.pyx\u001b[0m in \u001b[0;36mpandas._libs.parsers.TextReader.__cinit__\u001b[0;34m()\u001b[0m\n",
      "\u001b[0;32mpandas/_libs/parsers.pyx\u001b[0m in \u001b[0;36mpandas._libs.parsers.TextReader._setup_parser_source\u001b[0;34m()\u001b[0m\n",
      "\u001b[0;31mFileNotFoundError\u001b[0m: [Errno 2] File b'process_elements/process_elements_FBR.csv' does not exist: b'process_elements/process_elements_FBR.csv'"
     ]
    }
   ],
   "source": [
    "# SETS, PARAMETERS AND NODES DATA ACQUISITION\n",
    "nodes_matrix            = pd.read_csv('nodes/nodes_main.csv', sep=\",\", header=None)\n",
    "nodes                   = np.array(nodes_matrix[0].dropna())  \n",
    "process_elements_digestor_matrix = pd.read_csv('process_elements/process_elements_digestor.csv', sep=\",\", header=0)\n",
    "process_elements_OSTARA_matrix = pd.read_csv('process_elements/process_elements_OSTARA.csv', sep=\",\", header=0)\n",
    "# process_elements_CSTR_matrix = pd.read_csv('process_elements/process_elements_CSTR.csv', sep=\",\", header=0)\n",
    "nodes"
   ]
  },
  {
   "cell_type": "code",
   "execution_count": null,
   "metadata": {
    "scrolled": true
   },
   "outputs": [],
   "source": [
    "# TOTAL ELEMENTS\n",
    "gases_comp   = np.array(process_elements_digestor_matrix[\"Component\"].dropna())\n",
    "gases_conc   = np.full((len(gases_comp)), 0)\n",
    "gases        = dict(zip(gases_comp, gases_conc))\n",
    "\n",
    "chemicalsFBR_comp   = np.array(process_elements_FBR_matrix[\"Component\"][3:8].dropna())\n",
    "chemicalsFBR_conc   = np.full((len(chemicalsFBR_comp)), 0)\n",
    "chemicalsFBR        = dict(zip(chemicalsFBR_comp, chemicalsFBR_conc))\n",
    "\n",
    "productsFBR_comp       = np.array(process_elements_FBR_matrix[\"Component\"][0:3].dropna())\n",
    "productFBR_conc      = np.full((len(productsFBR_comp)), 0)\n",
    "productFBR            = dict(zip(productsFBR_comp, productFBR_conc))\n",
    "\n",
    "chemicalsCSTR_comp   = np.array(process_elements_CSTR_matrix[\"Component\"][3:7].dropna())\n",
    "chemicalsCSTR_conc   = np.full((len(chemicalsCSTR_comp)), 0)\n",
    "chemicalsCSTR        = dict(zip(chemicalsCSTR_comp, chemicalsCSTR_conc))\n",
    "\n",
    "productsCSTR_comp    = np.array(process_elements_CSTR_matrix[\"Component\"][0:3].dropna())\n",
    "productCSTR_conc     = np.full((len(productsCSTR_comp)), 0)\n",
    "productCSTR          = dict(zip(productsCSTR_comp, productCSTR_conc))\n",
    "\n",
    "#total_elements = {**elements_wet,**chemicals,**product} # Merge the two dictionaries\n",
    "total_elements = {**elements_wet,**gases,**chemicalsFBR,**productFBR,**chemicalsCSTR,**productCSTR}\n",
    "total_elements"
   ]
  },
  {
   "cell_type": "markdown",
   "metadata": {},
   "source": [
    "### VARIABLES DEFINITION (IN NESTED DICTIONARIES) (INITIALIZATION)\n"
   ]
  },
  {
   "cell_type": "code",
   "execution_count": null,
   "metadata": {},
   "outputs": [],
   "source": [
    "## VARIABLES DEFINITION (IN NESTED DICTIONARIES) (INITIALIZATION)\n",
    "nodes_list              = nodes.tolist()\n",
    "initialization_comp     = total_elements\n",
    "initialization_nan      = np.full((len(initialization_comp)), 0)\n",
    "\n",
    "fc_kgs = {key: dict(zip(initialization_comp,initialization_nan)) for key in nodes_list}\n",
    "fc_kgd = {key: dict(zip(initialization_comp,initialization_nan)) for key in nodes_list}\n",
    "\n",
    "x = {key: dict(zip(initialization_comp,initialization_nan)) for key in nodes_list}\n",
    "\n",
    "F_kgs = {key: np.nan for key in nodes_list}\n",
    "F_kgd = {key: np.nan for key in nodes_list}"
   ]
  },
  {
   "cell_type": "code",
   "execution_count": null,
   "metadata": {},
   "outputs": [],
   "source": [
    "F_kgd"
   ]
  },
  {
   "cell_type": "code",
   "execution_count": null,
   "metadata": {},
   "outputs": [],
   "source": [
    "N_animals = 5000"
   ]
  },
  {
   "cell_type": "code",
   "execution_count": null,
   "metadata": {},
   "outputs": [],
   "source": [
    "AD_eval = False\n",
    "SL_eval = False"
   ]
  },
  {
   "cell_type": "markdown",
   "metadata": {},
   "source": [
    "### FLOW TO BE TREATED"
   ]
  },
  {
   "cell_type": "code",
   "execution_count": null,
   "metadata": {},
   "outputs": [],
   "source": [
    "#FLOW TO BE TREATED\n",
    "F_ini_kgs = N_animals*feedstock_parameters['cattle_manure_ratio']/24/3600 #kg/s\n",
    "F_ini_kgd = N_animals*feedstock_parameters['cattle_manure_ratio'] #kg/day\n",
    "F_ini_kgd"
   ]
  },
  {
   "cell_type": "code",
   "execution_count": null,
   "metadata": {},
   "outputs": [],
   "source": [
    "# INITIAL FLOWS\n",
    "for i in elements_wet.keys():\n",
    "    x[\"Src1_ConsistencyEval\"][i]  = total_elements[i]/100\n",
    "    fc_kgs[\"Src1_ConsistencyEval\"][i] = x[\"Src1_ConsistencyEval\"][i]*F_ini_kgs\n",
    "    fc_kgd[\"Src1_ConsistencyEval\"][i] = x[\"Src1_ConsistencyEval\"][i]*F_ini_kgd\n",
    "F_kgs[\"Src1_ConsistencyEval\"] = F_ini_kgs\n",
    "F_kgd[\"Src1_ConsistencyEval\"] = F_ini_kgd"
   ]
  },
  {
   "cell_type": "code",
   "execution_count": null,
   "metadata": {},
   "outputs": [],
   "source": [
    "# Checks\n",
    "if abs(sum(fc_kgd[\"Src1_ConsistencyEval\"].values())-F_kgd[\"Src1_ConsistencyEval\"]) < F_kgd[\"Src1_ConsistencyEval\"]*0.01:\n",
    "    print('CHECK mass_kgd OK!')  \n",
    "else:\n",
    "    print('CHECK mass_kgd FAIL!')\n",
    "    \n",
    "if abs(sum(fc_kgs[\"Src1_ConsistencyEval\"].values())-F_kgs[\"Src1_ConsistencyEval\"]) < F_kgs[\"Src1_ConsistencyEval\"]*0.01:\n",
    "    print('CHECK mass_kgs OK!')   \n",
    "else:\n",
    "    print('CHECK mass_kgs FAIL!')\n",
    "\n",
    "if sum(x[\"Src1_ConsistencyEval\"].values())-1 < 1*0.01:\n",
    "    print('CHECK mass_frac OK!')   \n",
    "else:\n",
    "    print('CHECK mass_frac FAIL!')"
   ]
  },
  {
   "cell_type": "markdown",
   "metadata": {},
   "source": [
    "### TS evaluation"
   ]
  },
  {
   "cell_type": "code",
   "execution_count": null,
   "metadata": {},
   "outputs": [],
   "source": [
    "# =============================================================================\n",
    "# TS evaluation\n",
    "# =============================================================================\n",
    "def TS_evaluation (TS_content_i, fc_kgs_i, fc_kgd_i, x_i, F_kgs_i, F_kgd_i):\n",
    "    # Manure as transferred for utilization consitency evalutaiton\n",
    "    Additional_water = None\n",
    "    TS_max = 0.3 #https://doi.org/10.1016/j.biortech.2012.01.174\n",
    "    \n",
    "    if TS_content_i <= TS_max:\n",
    "        Additional_water = False\n",
    "        fc_kgs[\"ConsistencyEval_ADEval\"] = fc_kgs_i\n",
    "        fc_kgd[\"ConsistencyEval_ADEval\"] = fc_kgd_i\n",
    "        x[\"ConsistencyEval_ADEval\"] = x_i\n",
    "        F_kgs[\"ConsistencyEval_ADEval\"] = F_kgs_i\n",
    "#         F_kgd[\"ConsistencyEvalADEval\"] = F_kgd\n",
    "#         for i in elements_wet.keys():\n",
    "#             fc_kgs[\"ConsistencyEvalADEval\"][i] = fc_kgs[i]\n",
    "#             fc_kgd[\"ConsistencyEvalADEval\"][i] = fc_kgd[i]\n",
    "#             x[\"ConsistencyEvalADEval\"][i] = x[i]\n",
    "#             F_kgs[\"ConsistencyEvalADEval\"] = F_kgs\n",
    "#             F_kgd[\"ConsistencyEvalADEval\"] = F_kgd\n",
    "    else:\n",
    "        Additional_water = True\n",
    "        additional_Wa_kgs = (TS_content_i*F_kgs_i)/TS_content_i-F_kgs_i\n",
    "        additional_Wa_kgd = (TS_content_i*F_kgd_i)/TS_content_i-F_kgd_i\n",
    "        F_kgs[\"ConsistencyEval_ADEval\"] = F_kgs_i+additional_Wa_kgs\n",
    "        F_kgd[\"ConsistencyEval_ADEval\"] = F_kgd_i+additional_Wa_kgd\n",
    "        fc_kgs[\"ConsistencyEval_ADEval\"]['Wa'] = fc_kgs_i['Wa'] + additional_Wa_kgs\n",
    "        fc_kgd[\"ConsistencyEval_ADEval\"]['Wa'] = fc_kgd_i['Wa'] + additional_Wa_kgd\n",
    "        for i in (i for i in elements_wet.keys() if i!=\"Wa\"):\n",
    "            fc_kgs[\"ConsistencyEval_ADEval\"][i] = fc_kgs_i[i]\n",
    "            fc_kgd[\"ConsistencyEval_ADEval\"][i] = fc_kgd_i[i]\n",
    "        for ii in elements_wet.keys():\n",
    "            x['ConsistencyEval_ADEval'][ii] = fc_kgs['ConsistencyEval_ADEval'][ii]/(Fc_kgs[\"ConsistencyEval_ADEval\"])\n",
    "    return Additional_water       \n",
    "\n",
    "#     if feedstock_parameters['TS'] <= TS_max:\n",
    "#         for i in elements_wet.keys():\n",
    "#             fc[\"ConsistencyEvalADEval\"][i] = fc[\"Src1ConsistencyEval\"][i]\n",
    "#             x[\"ConsistencyEvalADEval\"][i] = x[\"Src1ConsistencyEval\"][i]\n",
    "#             F[\"ConsistencyEvalADEval\"] = F[\"Src1ConsistencyEval\"]\n",
    "#     else:\n",
    "#         current_flow = F_ini\n",
    "#         additional_Wa = (feedstock_parameters['TS']*F_ini)/TS_max-F_ini\n",
    "#         F[\"ConsistencyEvalADEval\"] = F[\"Src1ConsistencyEval\"]+additional_Wa\n",
    "#         fc[\"ConsistencyEvalADEval\"]['Wa'] = fc[\"Src1ConsistencyEval\"]['Wa'] + additional_Wa\n",
    "#         for i in (i for i in elements_wet.keys() if i!=\"Wa\"):\n",
    "#             fc[\"ConsistencyEvalADEval\"][i] = fc[\"Src1ConsistencyEval\"][i]\n",
    "#         for ii in elements_wet.keys():\n",
    "#             x['ConsistencyEvalADEval'][ii] = fc['ConsistencyEvalADEval'][ii]/(F[\"ConsistencyEvalADEval\"])\n",
    "            \n"
   ]
  },
  {
   "cell_type": "markdown",
   "metadata": {},
   "source": [
    "### AD evaluation"
   ]
  },
  {
   "cell_type": "code",
   "execution_count": null,
   "metadata": {},
   "outputs": [],
   "source": [
    "pd.read_csv('nodes/nodes_digestor.csv', sep=\",\", header=None)"
   ]
  },
  {
   "cell_type": "code",
   "execution_count": null,
   "metadata": {},
   "outputs": [],
   "source": [
    "# =============================================================================\n",
    "# AD evaluation\n",
    "# =============================================================================\n",
    "from AD_module import AD_module\n",
    "if AD_eval:\n",
    "    Additional_water = TS_evaluation(feedstock_parameters['TS'], fc_kgs[\"Src1_ConsistencyEval\"], fc_kgd[\"Src1_ConsistencyEval\"], x[\"Src1_ConsistencyEval\"], F_kgs[\"Src1_ConsistencyEval\"], F_kgd[\"Src1_ConsistencyEval\"])\n",
    "    AD_results = AD_module(F_kgs[\"ConsistencyEval_ADEval\"],fc_kgs[\"ConsistencyEval_ADEval\"], x[\"ConsistencyEval_ADEval\"], N_animals)\n",
    "    for i in {**elements_wet,**gases}.keys():\n",
    "        fc_kgs[\"ADEval_SLSepEval\"][i] = AD_results['fc']['BioreactorSink2'][i]\n",
    "        fc_kgd[\"ADEval_SLSepEval\"][i] = fc_kgs[\"ADEval_SLSepEval\"][i]*24*3600\n",
    "        x[\"ADEval_SLSepEval\"][i] = AD_results['x']['BioreactorSink2'][i]\n",
    "\n",
    "        fc_kgs[\"ADEval_Biogas\"][i] = AD_results['fc']['BioreactorSink1'][i]\n",
    "        fc_kgd[\"ADEval_Biogas\"][i] = fc_kgs[\"ADEval_Biogas\"][i]*24*3600\n",
    "        x[\"ADEval_Biogas\"][i] = AD_results['x']['BioreactorSink1'][i]\n",
    "\n",
    "    F_kgs[\"ADEval_SLSepEval\"] = AD_results['F']['BioreactorSink2']\n",
    "    F_kgd[\"ADEval_SLSepEval\"] = F_kgs[\"ADEval_SLSepEval\"]*24*3600\n",
    "    F_kgs[\"ADEval_Biogas\"] = AD_results['F']['BioreactorSink1']\n",
    "    F_kgd[\"ADEval_Biogas\"] =F_kgs[\"ADEval_Biogas\"]*24*3600\n",
    "\n",
    "if not AD_eval:\n",
    "    AD_results = {'tech':'Anaerobic digestion', \n",
    "    #'benefits':benefits_filter_result, \n",
    "    'investment_cost': 0, \n",
    "    'operation_cost_2016_amortized':0,\n",
    "    'operation_cost_2016_non_amortized':0,\n",
    "    'check_F':0,\n",
    "    'checks_x':0,\n",
    "    'carbon_efficiency':0,\n",
    "    }\n",
    "    for i in elements_wet.keys():\n",
    "        fc_kgs[\"ADEval_SLSepEval\"][i] = fc_kgs[\"Src1_ConsistencyEval\"][i]\n",
    "        fc_kgd[\"ADEval_SLSepEval\"][i] = fc_kgs[\"ADEval_SLSepEval\"][i]*24*3600\n",
    "        x[\"ADEval_SLSepEval\"][i] = x[\"Src1_ConsistencyEval\"][i]\n",
    "    F_kgs[\"ADEval_SLSepEval\"] = F_kgs[\"Src1_ConsistencyEval\"]\n",
    "    F_kgd[\"ADEval_SLSepEval\"] =  F_kgs[\"ADEval_SLSepEval\"]*24*3600\n",
    "    \n",
    "fc_kgs[\"ADEval_MAPHEX\"] = fc_kgs[\"ADEval_SLSepEval\"]\n",
    "fc_kgd[\"ADEval_MAPHEX\"] = fc_kgd[\"ADEval_SLSepEval\"]\n",
    "x[\"ADEval_MAPHEX\"] = x[\"ADEval_SLSepEval\"]\n",
    "F_kgs[\"ADEval_MAPHEX\"] = F_kgs[\"ADEval_SLSepEval\"]\n",
    "F_kgd[\"ADEval_MAPHEX\"] =  F_kgd[\"ADEval_SLSepEval\"]"
   ]
  },
  {
   "cell_type": "code",
   "execution_count": null,
   "metadata": {},
   "outputs": [],
   "source": [
    "F_kgs[\"ADEval_Biogas\"]"
   ]
  },
  {
   "cell_type": "markdown",
   "metadata": {},
   "source": [
    "###  SL separation evaluation"
   ]
  },
  {
   "cell_type": "code",
   "execution_count": null,
   "metadata": {},
   "outputs": [],
   "source": [
    "# =============================================================================\n",
    "# SL separation evaluation\n",
    "# =============================================================================\n",
    "from screw_press_module import screw_press_module\n",
    "if SL_eval:\n",
    "    ScrewPress_results = screw_press_module(F_kgs[\"ADEval_SLSepEval\"],fc_kgs[\"ADEval_SLSepEval\"],x[\"ADEval_SLSepEval\"])\n",
    "    for i in elements_wet.keys():\n",
    "        fc_kgs[\"SLSepEval_LiqTreatment\"][i] = ScrewPress_results['fc']['ScrewPressSink2'][i]\n",
    "        fc_kgd[\"SLSepEval_LiqTreatment\"][i] = fc_kgs[\"SLSepEval_LiqTreatment\"][i]*24*3600\n",
    "        x[\"SLSepEval_LiqTreatment\"][i]  = ScrewPress_results['x']['ScrewPressSink2'][i]\n",
    "        \n",
    "        fc_kgs[\"SLSepEval_SolidTreatment\"][i] = ScrewPress_results['fc']['ScrewPressSink1'][i]\n",
    "        fc_kgd[\"SLSepEval_SolidTreatment\"][i] = fc_kgs[\"SLSepEval_SolidTreatment\"][i]*24*3600\n",
    "        x[\"SLSepEval_SolidTreatment\"][i]  = ScrewPress_results['x']['ScrewPressSink1'][i]\n",
    "    \n",
    "    F_kgs[\"SLSepEval_LiqTreatment\"] = ScrewPress_results['F']['ScrewPressSink2']\n",
    "    F_kgd[\"SLSepEval_LiqTreatment\"] = F_kgs[\"SLSepEval_LiqTreatment\"]*24*3600\n",
    "    F_kgs[\"SLSepEval_SolidTreatment\"] = ScrewPress_results['F']['ScrewPressSink1']\n",
    "    F_kgd[\"SLSepEval_SolidTreatment\"] = F_kgs[\"SLSepEval_SolidTreatment\"]*24*3600\n",
    "    \n",
    "if not SL_eval:\n",
    "    ScrewPress_results = {'tech' : 'Screw press',\n",
    "                        'Flow_m3_day':0,\n",
    "                        'ScrewPress_diameter':0, \n",
    "                        'n_ScrewPress':0, \n",
    "                        'power_kW_ScrewPress':0, \n",
    "                        'equipment_cost':0,\n",
    "                        'investment_cost':0,\n",
    "                        'operation_cost_2016_amortized':0, \n",
    "                        'operation_cost_2016_non_amortized':0, \n",
    "                        'checks_F':0,\n",
    "                        'checks_x':0,\n",
    "                        'ScrewPress_diameter':0,\n",
    "                        'n_ScrewPress':0,\n",
    "                        'power_kW_ScrewPress':0\n",
    "            }\n",
    "    fc_kgs[\"SLSepEval_LiqTreatment\"][i] = fc_kgs[\"ADEval_SLSepEval\"][i]\n",
    "    fc_kgd[\"SLSepEval_LiqTreatment\"][i] = fc_kgs[\"SLSepEval_LiqTreatment\"][i]*24*3600\n",
    "    x[\"SLSepEval_LiqTreatment\"][i] = x[\"ADEval_SLSepEval\"][i]\n",
    "    F_kgs[\"SLSepEval_LiqTreatment\"] = F_kgs[\"ADEval_SLSepEval\"]\n",
    "    F_kgd[\"SLSepEval_LiqTreatment\"] =  F_kgs[\"SLSepEval_LiqTreatment\"]*24*3600\n",
    "    \n",
    "fc_kgs[\"LiqTreatment_OSTARA\"] = fc_kgs[\"SLSepEval_LiqTreatment\"]\n",
    "fc_kgd[\"LiqTreatment_OSTARA\"] = fc_kgd[\"SLSepEval_LiqTreatment\"]\n",
    "x[\"LiqTreatment_OSTARA\"] = x[\"SLSepEval_LiqTreatment\"]\n",
    "F_kgs[\"LiqTreatment_OSTARA\"] = F_kgs[\"SLSepEval_LiqTreatment\"]\n",
    "F_kgd[\"LiqTreatment_OSTARA\"] =  F_kgd[\"SLSepEval_LiqTreatment\"]"
   ]
  },
  {
   "cell_type": "markdown",
   "metadata": {},
   "source": [
    "### MAPHEX evaluation"
   ]
  },
  {
   "cell_type": "code",
   "execution_count": null,
   "metadata": {
    "scrolled": true
   },
   "outputs": [],
   "source": [
    "# =============================================================================\n",
    "# MAPHEX evaluation\n",
    "# =============================================================================\n",
    "from MAPHEX_module import MAPHEX_module\n",
    "\n",
    "MAPHEX_results = MAPHEX_module(F_kgs[\"ADEval_MAPHEX\"],fc_kgs[\"ADEval_MAPHEX\"],x[\"ADEval_MAPHEX\"])\n",
    "for i in elements_wet.keys():\n",
    "        fc_kgs[\"MAPHEX_Liqeff\"][i] = MAPHEX_results['fc']['MAPHEX_LiqEff'][i]\n",
    "        fc_kgd[\"MAPHEX_Liqeff\"][i] = fc_kgs[\"MAPHEX_Liqeff\"][i]*24*3600\n",
    "        x[\"MAPHEX_Liqeff\"][i]  = MAPHEX_results['x']['MAPHEX_LiqEff'][i]\n",
    "        \n",
    "        fc_kgs[\"MAPHEX_Peff\"][i] = MAPHEX_results['fc']['MAPHEX_SolEff'][i]\n",
    "        fc_kgd[\"MAPHEX_Peff\"][i] = fc_kgs[\"MAPHEX_Peff\"][i]*24*3600\n",
    "        x[\"MAPHEX_Peff\"][i]  = MAPHEX_results['x']['MAPHEX_SolEff'][i]\n",
    "\n",
    "F_kgs[\"MAPHEX_Liqeff\"] = MAPHEX_results['F']['MAPHEX_LiqEff']\n",
    "F_kgd[\"MAPHEX_Liqeff\"] = F_kgs[\"MAPHEX_Liqeff\"]*24*3600\n",
    "F_kgs[\"MAPHEX_Peff\"] = MAPHEX_results['F']['MAPHEX_SolEff']\n",
    "F_kgd[\"MAPHEX_Peff\"] = F_kgs[\"MAPHEX_Peff\"]*24*3600\n"
   ]
  },
  {
   "cell_type": "markdown",
   "metadata": {},
   "source": [
    "### OSTARA evaluation"
   ]
  },
  {
   "cell_type": "code",
   "execution_count": null,
   "metadata": {},
   "outputs": [],
   "source": [
    "from OSTARA_module import OSTARA_module\n",
    "\n",
    "OSTARA_module_results = OSTARA_module(F_kgs[\"LiqTreatment_OSTARA\"],fc_kgs[\"LiqTreatment_OSTARA\"],x[\"LiqTreatment_OSTARA\"])\n",
    "for i in {**elements_wet,**chemicalsFBR,**productFBR}.keys():\n",
    "    fc_kgs[\"OSTARA_Peff\"][i] = FBR_module_results['fc']['DryerSink4'][i]\n",
    "    fc_kgd[\"OSTARA_Peff\"][i] = fc_kgs[\"OSTARA_Peff\"][i]*24*3600\n",
    "    x[\"OSTARA_Peff\"][i]  = FBR_module_results['x']['DryerSink4'][i]\n",
    "\n",
    "    fc_kgs[\"OSTARA_Vaporeff\"][i] = FBR_module_results['fc']['DryerSink3'][i]\n",
    "    fc_kgd[\"OSTARA_Vaporeff\"][i] = fc_kgs[\"OSTARA_Vaporeff\"][i]*24*3600\n",
    "    x[\"OSTARA_Vaporeff\"][i]  = FBR_module_results['x']['DryerSink3'][i]\n",
    "\n",
    "    fc_kgs[\"OSTARA_Liqeff\"][i] = FBR_module_results['fc']['HydrocycloneSink2'][i]\n",
    "    fc_kgd[\"OSTARA_Liqeff\"][i] = fc_kgs[\"OSTARA_Liqeff\"][i]*24*3600\n",
    "    x[\"OSTARA_Liqeff\"][i]  = FBR_module_results['x']['HydrocycloneSink2'][i]\n",
    "\n",
    "#    fc[\"LiqTreatmentFBRSnk1\"][i] = FBR_module_results['fc']['HydrocycloneSink1'][i]\n",
    "#    x[\"LiqTreatmentFBRSnk1\"][i]  = FBR_module_results['x']['HydrocycloneSink1'][i]\n",
    "\n",
    "F_kgs[\"OSTARA_Peff\"] = FBR_module_results['F']['DryerSink4']\n",
    "F_kgd[\"OSTARA_Peff\"] = F_kgs[\"OSTARA_Peff\"]*24*3600\n",
    "F_kgs[\"OSTARA_Vaporeff\"] = FBR_module_results['F']['DryerSink3']\n",
    "F_kgd[\"OSTARA_Vaporeff\"] = F_kgs[\"OSTARA_Vaporeff\"]*24*3600\n",
    "F_kgs[\"OSTARA_Liqeff\"] = FBR_module_results['F']['HydrocycloneSink2']\n",
    "F_kgd[\"OSTARA_Liqeff\"] = F_kgs[\"OSTARA_Liqeff\"]*24*3600"
   ]
  },
  {
   "cell_type": "markdown",
   "metadata": {},
   "source": [
    "# Mass balances"
   ]
  },
  {
   "cell_type": "code",
   "execution_count": null,
   "metadata": {},
   "outputs": [],
   "source": [
    "fc_MAPHEX = OrderedDict(MAPHEX_results['fc'])\n",
    "fc_DF_MAPHEX = pd.DataFrame.from_dict({(i): fc_MAPHEX[i] for i in fc_MAPHEX.keys()}, orient='index')\n",
    "fc_html_MAPHEX = fc_DF_MAPHEX.to_html(justify='center')\n",
    "\n",
    "massbalances_summary_data = fc_DF_MAPHEX\n",
    "massbalances_summary_data"
   ]
  },
  {
   "cell_type": "markdown",
   "metadata": {},
   "source": [
    "# Summary of techs performance"
   ]
  },
  {
   "cell_type": "code",
   "execution_count": null,
   "metadata": {},
   "outputs": [],
   "source": [
    "#Summary of results P\n",
    "results_summary_data = {'Fraction TP recovered':[0,\n",
    "#                                                      filtration_module_results['fraction_recoved_TP'],\n",
    "#                                                      FBR_module_results['fraction_recoved_TP'],\n",
    "#                                                      CSTR_module_results['fraction_recoved_TP'],\n",
    "                                                 MAPHEX_results['fraction_recoved_TP'],\n",
    "                                                 ],\n",
    "\n",
    "                        'Fraction TP released':[0,\n",
    "#                                                     filtration_module_results['fraction_released_TP'],\n",
    "#                                                     FBR_module_results['fraction_released_TP'],\n",
    "#                                                     CSTR_module_results['fraction_released_TP'],\n",
    "                                                MAPHEX_results['fraction_released_TP'],\n",
    "                                                ],\n",
    "\n",
    "                        'Fraction PO4 recovered':[0,\n",
    "#                                                       filtration_module_results['fraction_recoved_PO4'],\n",
    "#                                                       FBR_module_results['fraction_recoved_PO4'],\n",
    "#                                                       CSTR_module_results['fraction_recoved_PO4'],\n",
    "                                                  MAPHEX_results['fraction_recoved_PO4'],\n",
    "                                                  ],\n",
    "\n",
    "                        'Fraction PO4 released':[0,\n",
    "#                                                      filtration_module_results['fraction_released_PO4'],\n",
    "#                                                      FBR_module_results['fraction_released_PO4'],\n",
    "#                                                      CSTR_module_results['fraction_released_PO4'],\n",
    "                                                 MAPHEX_results['fraction_released_PO4'],\n",
    "                                                 ],\n",
    "\n",
    "                        'PO4 emissions (mg/L)':[0,\n",
    "#                                                     filtration_module_results['PO4_conc_released'],\n",
    "#                                                     FBR_module_results['PO4_conc_released'],\n",
    "#                                                     CSTR_module_results['PO4_conc_released'],\n",
    "                                                MAPHEX_results['PO4_conc_released'],\n",
    "                                                ],\n",
    "\n",
    "                        'Carbon efficiency': [AD_results['carbon_efficiency'],\n",
    "#                                                   0,\n",
    "#                                                   0,\n",
    "#                                                   0,\n",
    "                                              0,\n",
    "                                              ]\n",
    "                            } \n",
    "results_summary = pd.DataFrame(results_summary_data, index=['Anaerobic digestion','MAPHEX',])#'FBR struvite','CSTR struvite','Anaerobic digestion'])\n",
    "results_summary = results_summary.applymap('{0:.2f}'.format)\n",
    "results_summary"
   ]
  },
  {
   "cell_type": "markdown",
   "metadata": {},
   "source": [
    "# Summary of techs economics"
   ]
  },
  {
   "cell_type": "code",
   "execution_count": null,
   "metadata": {},
   "outputs": [],
   "source": [
    "n_units = {'Number of units':[0,\n",
    "                                      ScrewPress_results['n_ScrewPress'],\n",
    "#                                       filtration_module_results['investment_cost'],\n",
    "#                                       FBR_module_results['investment_cost'],\n",
    "#                                       CSTR_module_results['investment_cost']],\n",
    "                                      MAPHEX_results['n_MAPHEX']],\n",
    "          }\n",
    "\n",
    "investment_cost = {'Investment cost':[AD_results['investment_cost'],\n",
    "                                      ScrewPress_results['investment_cost'],\n",
    "#                                       filtration_module_results['investment_cost'],\n",
    "#                                       FBR_module_results['investment_cost'],\n",
    "#                                       CSTR_module_results['investment_cost']],\n",
    "                                      MAPHEX_results['investment_cost']],\n",
    "                  }\n",
    "operation_cost_non_amortized = {'Operation cost non amortized':[AD_results['operation_cost_2016_non_amortized'],\n",
    "                                                                ScrewPress_results['operation_cost_2016_non_amortized'],\n",
    "#                                                                 filtration_module_results['operation_cost_2016_non_amortized'],\n",
    "#                                                                 FBR_module_results['operation_cost_2016_non_amortized'],\n",
    "#                                                                 CSTR_module_results['operation_cost_2016_non_amortized'],]\n",
    "                                                                MAPHEX_results['operation_cost_2016_non_amortized']],\n",
    "                            }\n",
    "operation_cost_amortized = {'Operation cost amortized':[AD_results['operation_cost_2016_amortized'],\n",
    "                                                        ScrewPress_results['operation_cost_2016_amortized'],\n",
    "#                                                         filtration_module_results['operation_cost_2016_amortized'],\n",
    "#                                                         FBR_module_results['operation_cost_2016_amortized'],\n",
    "#                                                         CSTR_module_results['operation_cost_2016_amortized']],\n",
    "                                                        MAPHEX_results['operation_cost_2016_amortized']],\n",
    "                            }\n",
    "input_cash        = {'Input cash':[0,\n",
    "                                   0,\n",
    "#                                    0,\n",
    "#                                    FBR_module_results['Struvite_benefits'],\n",
    "#                                    CSTR_module_results['Struvite_benefits']],\n",
    "                                   0],\n",
    "                            }\n",
    "\n",
    "equipment_cost = {'Equipment_cost':[AD_results['investment_cost'],\n",
    "                                    ScrewPress_results['equipment_cost'], \n",
    "#                                     filtration_module_results['investment_cost'],\n",
    "#                                     FBR_module_results['equipment_cost'],\n",
    "#                                     CSTR_module_results['equipment_cost']],\n",
    "                                    MAPHEX_results['equipment_cost']],\n",
    "                            }\n",
    "economic_results_summary = pd.DataFrame({**n_units, **equipment_cost, **investment_cost, **operation_cost_non_amortized, **operation_cost_amortized, **input_cash}, index=['Anaerobic digestion', 'Screw Press', 'MAPHEX',]) #'Filtration','FBR struvite','CSTR struvite')\n",
    "economic_results_summary = economic_results_summary.applymap('{0:.2f}'.format)\n",
    "economic_results_summary"
   ]
  },
  {
   "cell_type": "code",
   "execution_count": null,
   "metadata": {},
   "outputs": [],
   "source": [
    "fc_MAPHEX = OrderedDict(MAPHEX_results['fc'])\n",
    "fc_DF_MAPHEX = pd.DataFrame.from_dict({(i): fc_MAPHEX[i] for i in fc_MAPHEX.keys()}, orient='index')\n",
    "fc_html_MAPHEX = fc_DF_MAPHEX.to_html(justify='center')\n",
    "fc_DF_MAPHEX"
   ]
  }
 ],
 "metadata": {
  "kernelspec": {
   "display_name": "Python 3",
   "language": "python",
   "name": "python3"
  },
  "language_info": {
   "codemirror_mode": {
    "name": "ipython",
    "version": 3
   },
   "file_extension": ".py",
   "mimetype": "text/x-python",
   "name": "python",
   "nbconvert_exporter": "python",
   "pygments_lexer": "ipython3",
   "version": "3.7.3"
  }
 },
 "nbformat": 4,
 "nbformat_minor": 2
}
