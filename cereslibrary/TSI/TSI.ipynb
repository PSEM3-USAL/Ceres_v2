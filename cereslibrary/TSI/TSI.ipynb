{
 "cells": [
  {
   "cell_type": "code",
   "execution_count": null,
   "metadata": {},
   "outputs": [],
   "source": [
    "import os\n",
    "import conda\n",
    "import pandas as pd\n",
    "import numpy as np\n",
    "import json\n",
    "# from shapely.geometry import Polygon as Poly\n",
    "\n",
    "pd.options.display.max_columns = 250\n",
    "\n",
    "conda_file_dir = conda.__file__\n",
    "conda_dir = conda_file_dir.split('lib')[0]\n",
    "proj_lib = os.path.join(os.path.join(conda_dir, 'share'), 'proj')\n",
    "os.environ[\"PROJ_LIB\"] = proj_lib\n",
    "\n",
    "import matplotlib.pyplot as plt\n",
    "import matplotlib.cm\n",
    "import matplotlib.colors as colors\n",
    "\n",
    "import geopandas\n",
    "from geopandas.tools import sjoin\n",
    "import geoplot as gplt\n",
    "import geoplot.crs as gcrs"
   ]
  },
  {
   "cell_type": "code",
   "execution_count": null,
   "metadata": {},
   "outputs": [],
   "source": [
    "# %matplotlib inline"
   ]
  },
  {
   "cell_type": "code",
   "execution_count": null,
   "metadata": {},
   "outputs": [],
   "source": [
    "HUC8  = geopandas.GeoDataFrame.from_file('watershed/huc8sum.shp')\n",
    "# HUC8.crs = {'init' :'epsg:4326'}\n",
    "HUC8['HUC_8']=HUC8['HUC_8'].astype(int)\n",
    "HUC8"
   ]
  },
  {
   "cell_type": "code",
   "execution_count": null,
   "metadata": {},
   "outputs": [],
   "source": [
    "#Ecoregions\n",
    "Ecoregions  = geopandas.GeoDataFrame.from_file('NARS_NP_values/narswsa_20110504.shp')\n",
    "Ecoregions.crs = {'init' :'epsg:4326'}"
   ]
  },
  {
   "cell_type": "code",
   "execution_count": null,
   "metadata": {},
   "outputs": [],
   "source": [
    "# For folium\n",
    "HUC8_json = HUC8.to_crs(epsg='4326').to_json()"
   ]
  },
  {
   "cell_type": "code",
   "execution_count": null,
   "metadata": {},
   "outputs": [],
   "source": [
    "import folium\n",
    "\n",
    "m = folium.Map(location=[48, -102], zoom_start=3)\n",
    "\n",
    "folium.GeoJson(\n",
    "    HUC8_json,\n",
    "    name='HUC8'\n",
    ").add_to(m)\n",
    "# m\n",
    "m.save('HUC8.html')\n"
   ]
  },
  {
   "cell_type": "code",
   "execution_count": null,
   "metadata": {},
   "outputs": [],
   "source": [
    "# proj = gcrs.AlbersEqualArea()\n",
    "# gplt.polyplot(HUC8, projection=proj, edgecolor='white', linewidth=0.1, facecolor='black',)"
   ]
  },
  {
   "cell_type": "code",
   "execution_count": null,
   "metadata": {
    "scrolled": true
   },
   "outputs": [],
   "source": [
    "chla_df = pd.read_csv('chla/nla2012_chla_wide.csv', sep=\",\", header=0)\n",
    "chla_df"
   ]
  },
  {
   "cell_type": "code",
   "execution_count": null,
   "metadata": {},
   "outputs": [],
   "source": [
    "NLA_site_info = pd.read_csv('NLA_site_info/nla2012_wide_siteinfo_08232016.csv', sep=\",\", header=0)\n",
    "NLA_site_info"
   ]
  },
  {
   "cell_type": "code",
   "execution_count": null,
   "metadata": {
    "scrolled": true
   },
   "outputs": [],
   "source": [
    "# =============================================================================\n",
    "# NLA (lakes) UID:HUC8 correspondence\n",
    "# =============================================================================\n",
    "    \n",
    "# UID_HUC8_dict\n",
    "UID_HUC8_dict_NLA = {key: NLA_site_info['HUC8'][NLA_site_info.UID == key].values for key in NLA_site_info['UID'].values}\n",
    "UID_LAT_DD83_dict_NLA = {key: NLA_site_info['LAT_DD83'][NLA_site_info.UID == key].values for key in NLA_site_info['UID'].values}\n",
    "UID_LON_DD83_dict_NLA = {key: NLA_site_info['LON_DD83'][NLA_site_info.UID == key].values for key in NLA_site_info['UID'].values}\n",
    "UID_AGGR_ECO9_2015_dict_NLA = {key: NLA_site_info['AGGR_ECO9_2015'][NLA_site_info.UID == key].values for key in NLA_site_info['UID'].values}\n",
    "UID_SITE_ID_2015_dict_NLA = {key:NLA_site_info['SITE_ID'][NLA_site_info.UID == key].values for key in NLA_site_info['UID'].values}\n",
    "\n",
    "aux_list_HUC8_NLA = []\n",
    "aux_list_LAT_DD83_NLA = []\n",
    "aux_list_LON_DD83_NLA = []\n",
    "aux_list_AGGR_ECO9_2015_NLA = []\n",
    "aux_list_SITE_ID_2015_NLA = []\n",
    "for i in chla_df['UID']:\n",
    "    aux_list_HUC8_NLA.append(int(UID_HUC8_dict_NLA[i]))\n",
    "    aux_list_LAT_DD83_NLA.append(float(UID_LAT_DD83_dict_NLA[i]))\n",
    "    aux_list_LON_DD83_NLA.append(float(UID_LON_DD83_dict_NLA[i]))\n",
    "    aux_list_AGGR_ECO9_2015_NLA.append(str(UID_AGGR_ECO9_2015_dict_NLA[i]))\n",
    "    aux_list_SITE_ID_2015_NLA.append(str(UID_SITE_ID_2015_dict_NLA[i]))\n",
    "\n",
    "chla_df['HUC8'] = aux_list_HUC8_NLA\n",
    "chla_df['LAT_DD83'] = aux_list_LAT_DD83_NLA\n",
    "chla_df['LON_DD83'] = aux_list_LON_DD83_NLA\n",
    "chla_df['AGGR_ECO9_2015'] = aux_list_AGGR_ECO9_2015_NLA\n",
    "chla_df['SITE_ID'] = aux_list_SITE_ID_2015_NLA\n",
    "chla_df[['UID','HUC8','LAT_DD83','LON_DD83', 'AGGR_ECO9_2015','SITE_ID']]\n",
    "\n",
    "# NLA_points = NLA_points.columns.get_level_values(0)\n",
    "chla_df.columns = chla_df.columns.to_flat_index()\n",
    "chla_df = chla_df.rename(columns={'HUC8':'HUC_8'})\n",
    "chla_df"
   ]
  },
  {
   "cell_type": "code",
   "execution_count": null,
   "metadata": {},
   "outputs": [],
   "source": [
    "chla_df_filt = chla_df.dropna(subset=['CHLX_RESULT']) #remove NAN values of CHLX_RESULT\n"
   ]
  },
  {
   "cell_type": "code",
   "execution_count": null,
   "metadata": {
    "scrolled": true
   },
   "outputs": [],
   "source": [
    "chla_df_group_SITE_ID_fil = chla_df_filt.groupby(['SITE_ID']).mean()\n",
    "chla_df_group_SITE_ID_fil"
   ]
  },
  {
   "cell_type": "code",
   "execution_count": null,
   "metadata": {
    "scrolled": true
   },
   "outputs": [],
   "source": [
    "chla_df_group_SITE_ID_HUC_8_filt = chla_df_group_SITE_ID_fil.groupby(['HUC_8']).mean()\n",
    "chla_df_group_SITE_ID_HUC_8_filt"
   ]
  },
  {
   "cell_type": "code",
   "execution_count": null,
   "metadata": {},
   "outputs": [],
   "source": [
    "# Merge dataframe and geodataframe\n",
    "HUC8_chla = HUC8.merge(chla_df_group_SITE_ID_HUC_8_filt, on='HUC_8')\n",
    "HUC8_chla"
   ]
  },
  {
   "cell_type": "code",
   "execution_count": null,
   "metadata": {},
   "outputs": [],
   "source": [
    "# # DEPRECATED IN FAVOR OF ZEROS\n",
    "\n",
    "# # =============================================================================\n",
    "#     # Fill the gaps with the ecoregions average data\n",
    "#     # =============================================================================\n",
    "# HUC8_in_chla_list = list(HUC8_chla['HUC_8'])\n",
    "# HUC8_total_list = list(HUC8['HUC_8'])\n",
    "# HUC8_diff_list = set(HUC8_total_list)-set(HUC8_chla)\n",
    "\n",
    "# HUC8_diff = HUC8[HUC8['HUC_8'].isin(HUC8_diff_list)]\n",
    "\n",
    "# HUC8inEcoregions = sjoin(HUC8_diff, Ecoregions, how='inner', op='intersects')\n",
    "# HUC8inEcoregions = HUC8inEcoregions.drop_duplicates(subset=['HUC_8'])\n",
    "# HUC8inEcoregions_index = HUC8inEcoregions.set_index('HUC_8')\n",
    "\n",
    "# HUC8_Ecoregion_dict = dict(zip(HUC8inEcoregions.HUC_8, HUC8inEcoregions.WSA_REGION))\n",
    "\n",
    "# NARS_NLA_AGGR_ECO9_2015 = chla_df.groupby(['AGGR_ECO9_2015']).mean()\n",
    "# NARS_NLA_AGGR_ECO9_2015 = NARS_NLA_AGGR_ECO9_2015.rename(index={\"['CPL']\":'CPL',\n",
    "#                                      \"['NAP']\":'NAP',\n",
    "#                                      \"['NPL']\":'NPL',\n",
    "#                                      \"['SAP']\":'SAP',\n",
    "#                                      \"['SPL']\":'SPL',\n",
    "#                                      \"['TPL']\":'TPL',\n",
    "#                                      \"['UMW']\":'UMW',\n",
    "#                                      \"['WMT']\":'WMT',\n",
    "#                                      \"['XER']\":'XER',\n",
    "#                                     })\n",
    "\n",
    "# HUC8_Ecoregion_chla_dict = dict()\n",
    "# for l in HUC8_diff.HUC_8:\n",
    "#     HUC8_in_chla_list = list(HUC8_chla['HUC_8'])\n",
    "# HUC8_total_list = list(HUC8['HUC_8'])\n",
    "# HUC8_diff_list = set(HUC8_total_list)-set(HUC8_in_chla_list)\n",
    "\n",
    "# HUC8_diff = HUC8[HUC8['HUC_8'].isin(HUC8_diff_list)]\n",
    "\n",
    "# HUC8inEcoregions = sjoin(HUC8_diff, Ecoregions, how='inner', op='intersects')\n",
    "# HUC8inEcoregions = HUC8inEcoregions.drop_duplicates(subset=['HUC_8'])\n",
    "# HUC8inEcoregions_index = HUC8inEcoregions.set_index('HUC_8')\n",
    "\n",
    "# HUC8_Ecoregion_dict = dict(zip(HUC8inEcoregions.HUC_8, HUC8inEcoregions.WSA_REGION))\n",
    "\n",
    "# NLA_AGGR_ECO9_2015 = chla_df.groupby(['AGGR_ECO9_2015']).mean()\n",
    "# NLA_AGGR_ECO9_2015 = NLA_AGGR_ECO9_2015.rename(index={\"['CPL']\":'CPL',\n",
    "#                                      \"['NAP']\":'NAP',\n",
    "#                                      \"['NPL']\":'NPL',\n",
    "#                                      \"['SAP']\":'SAP',\n",
    "#                                      \"['SPL']\":'SPL',\n",
    "#                                      \"['TPL']\":'TPL',\n",
    "#                                      \"['UMW']\":'UMW',\n",
    "#                                      \"['WMT']\":'WMT',\n",
    "#                                      \"['XER']\":'XER',\n",
    "#                                     })\n",
    "\n",
    "# HUC8_Ecoregion_chla_dict = dict()\n",
    "# for l in HUC8_diff.HUC_8:\n",
    "#     HUC8_Ecoregion_chla_dict[l] = NLA_AGGR_ECO9_2015.loc[HUC8_Ecoregion_dict[l],'CHLX_RESULT']\n",
    "\n"
   ]
  },
  {
   "cell_type": "code",
   "execution_count": null,
   "metadata": {},
   "outputs": [],
   "source": [
    "#Zeros\n",
    "HUC8_Ecoregion_chla= pd.DataFrame(HUC8_diff.HUC_8, columns=['HUC_8'])\n",
    "HUC8_Ecoregion_chla['CHLX_RESULT'] = np.nan\n",
    "\n",
    "HUC8_Ecoregion_chla = HUC8_Ecoregion_chla.set_index('HUC_8', drop=True)\n",
    "\n",
    "NARS_NLA_FINAL_chla = pd.concat([chla_df_group_SITE_ID_HUC_8_filt, HUC8_Ecoregion_chla], ignore_index=False, sort=False)\n",
    "\n",
    "HUC8_NARS_NLA_FINAL_chla = HUC8.merge(NARS_NLA_FINAL_chla, on='HUC_8')\n",
    "# HUC8_NARS_NLA_FINAL_chla['CHLX_RESULT'] = HUC8_NARS_NLA_FINAL_chla['CHLX_RESULT'].replace(0, np.nan, inplace=True)"
   ]
  },
  {
   "cell_type": "code",
   "execution_count": null,
   "metadata": {},
   "outputs": [],
   "source": [
    "# proj = gcrs.AlbersEqualArea()\n",
    "# norm = colors.LogNorm()\n",
    "# cmap = matplotlib.cm.viridis\n",
    "# cmap.set_under('grey')\n",
    "# ax = gplt.choropleth(HUC8_NARS_NLA_FINAL_chla, hue='CHLX_RESULT', projection=proj, norm=norm, cmap=cmap, k=7, scheme=None, legend=True, legend_kwargs={'loc': 'lower right'},figsize=(12, 12))#, vmin=HUC8_NARS_NLA_FINAL_chla[HUC8_NARS_NLA_FINAL_chla['CHLX_RESULT'] > 0]['CHLX_RESULT'].min())#, vmin=0.8, vmax=HUC8_NARS_NLA_FINAL['PTL'].max() , linewidth=0.5, edgecolor='black',)\n",
    "# # gplt.pointplot(point, ax=ax, projection=proj, s=300, color='none', edgecolors='r', linewidth='3')\n",
    "# # gplt.pointplot(point, ax=ax, projection=proj, color= 'red')"
   ]
  },
  {
   "cell_type": "code",
   "execution_count": null,
   "metadata": {},
   "outputs": [],
   "source": [
    "HUC8_json"
   ]
  },
  {
   "cell_type": "code",
   "execution_count": null,
   "metadata": {},
   "outputs": [],
   "source": [
    "from folium.plugins import MousePosition, Search\n",
    "\n",
    "m_chla = folium.Map(location=[48, -102], zoom_start=3)\n",
    "\n",
    "bins = [0,2,7,30,HUC8_NARS_NLA_FINAL_chla['CHLX_RESULT'].max()]\n",
    "\n",
    "CHLX_RESULT_layer = folium.Choropleth(\n",
    "    geo_data=HUC8_json,\n",
    "    name='Chlorophyll-a',\n",
    "    data=HUC8_NARS_NLA_FINAL_chla,\n",
    "    columns=['HUC_8', 'CHLX_RESULT'],\n",
    "    key_on='feature.properties.HUC_8',\n",
    "    bins = bins,\n",
    "    fill_color='YlGn',\n",
    "    fill_opacity=0.7,\n",
    "    line_opacity=0.2,\n",
    "    nan_fill_color='grey',\n",
    "    nan_fill_opacity=0.7,\n",
    "    legend_name=r\"Chlorophyll-a (microg/L)\",\n",
    "    highlight=True,\n",
    ").add_to(m_chla)\n",
    "\n",
    "folium.GeoJson(\n",
    "    HUC8_NARS_NLA_FINAL_chla.to_json(),\n",
    "    style_function=lambda feature: {\n",
    "        'color': 'black',\n",
    "        'weight': 0.1,\n",
    "    },\n",
    "    tooltip=folium.features.GeoJsonTooltip(\n",
    "        fields=['HUC_8', 'CHLX_RESULT'],\n",
    "        aliases=['HUC8 watershed', 'Chlorophyll-a (microg/L)'], \n",
    "        localize=True)).add_to(m_chla)\n",
    "\n",
    "folium.LayerControl().add_to(m_chla)\n",
    "\n",
    "formatter = \"function(num) {return L.Util.formatNum(num, 3) + ' º ';};\"\n",
    "\n",
    "MousePosition(\n",
    "    position='bottomright',\n",
    "    separator=' | ',\n",
    "    empty_string='NaN',\n",
    "    lng_first=True,\n",
    "    num_digits=20,\n",
    "    prefix='Coordinates:',\n",
    "    lat_formatter=formatter,\n",
    "    lng_formatter=formatter,\n",
    ").add_to(m_chla)\n",
    "\n",
    "HUC8search = Search(\n",
    "    layer=CHLX_RESULT_layer,\n",
    "    geom_type='Polygon',\n",
    "    placeholder='Search for a HUC8 watershed',\n",
    "    collapsed=False,\n",
    "    search_label='HUC_8',\n",
    "    weight=3\n",
    ").add_to(m_chla)\n",
    "\n",
    "m_chla.save('HUC8_chla.html')"
   ]
  }
 ],
 "metadata": {
  "kernelspec": {
   "display_name": "Python 3",
   "language": "python",
   "name": "python3"
  },
  "language_info": {
   "codemirror_mode": {
    "name": "ipython",
    "version": 3
   },
   "file_extension": ".py",
   "mimetype": "text/x-python",
   "name": "python",
   "nbconvert_exporter": "python",
   "pygments_lexer": "ipython3",
   "version": "3.7.3"
  }
 },
 "nbformat": 4,
 "nbformat_minor": 2
}
